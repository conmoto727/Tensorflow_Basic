{
 "cells": [
  {
   "cell_type": "code",
   "execution_count": 1,
   "metadata": {
    "collapsed": true
   },
   "outputs": [],
   "source": [
    "import numpy as np\n",
    "import tensorflow as tf\n",
    "import matplotlib.pyplot as plt\n",
    "from tensorflow.examples.tutorials.mnist import input_data\n",
    "%matplotlib inline"
   ]
  },
  {
   "cell_type": "code",
   "execution_count": 2,
   "metadata": {
    "collapsed": false
   },
   "outputs": [
    {
     "name": "stdout",
     "output_type": "stream",
     "text": [
      "Extracting data/train-images-idx3-ubyte.gz\n",
      "Extracting data/train-labels-idx1-ubyte.gz\n",
      "Extracting data/t10k-images-idx3-ubyte.gz\n",
      "Extracting data/t10k-labels-idx1-ubyte.gz\n"
     ]
    }
   ],
   "source": [
    "mnist = input_data.read_data_sets('data/', one_hot=True)"
   ]
  },
  {
   "cell_type": "code",
   "execution_count": 3,
   "metadata": {
    "collapsed": false
   },
   "outputs": [],
   "source": [
    "trainimg = mnist.train.images\n",
    "trainlabels = mnist.train.labels\n",
    "testimg = mnist.test.images\n",
    "testlabels = mnist.test.labels"
   ]
  },
  {
   "cell_type": "code",
   "execution_count": 7,
   "metadata": {
    "collapsed": false
   },
   "outputs": [],
   "source": [
    "n_input = 784\n",
    "n_output = 10\n",
    "weights ={\n",
    "    'wc1': tf.Variable(tf.random_normal([3, 3, 1, 64], stddev= 0.1)),\n",
    "    'wc2': tf.Variable(tf.random_normal([3, 3, 64, 128], stddev= 0.1)),\n",
    "    'wd1': tf.Variable(tf.random_normal([7*7*128, n_output]))\n",
    "}\n",
    "biases = {\n",
    "    'bc1': tf.Variable(tf.random_normal([64], stddev=0.1)),\n",
    "    'bc2': tf.Variable(tf.random_normal([128], stddev=0.1)),\n",
    "    'bd1': tf.Variable(tf.random_normal([n_output], stddev=0.1))\n",
    "}\n",
    "\n",
    "def conv_simple(_input, _w, _b):\n",
    "    #Reshape input [n_batch, width, height, channel]\n",
    "    _input_r = tf.reshape(_input, shape=[-1, 28, 28, 1])\n",
    "    #layer1\n",
    "    _conv1 = tf.nn.conv2d(_input_r, _w['wc1'], strides=[1,1,1,1], padding='SAME')\n",
    "    _conv2 = tf.nn.biases_add(_conv1, b['bc1'])\n",
    "    _conv3 = tf.nn.relu(_conv2)\n",
    "    _pool1 = tf.nn.max_pool(_conv3, ksize=[1,2,2,1], strides=[1,1,1,1], padding='SAME')\n",
    "    #layer2\n",
    "    _conv4 = tf.nn.conv2d(_pool1, _w['wc2'], strides=[1,1,1,1], padding='SAME')\n",
    "    _conv5 = tf.nn.bias_add(_conv4, b['bc2'])\n",
    "    _conv6 = tf.nn.relu(_conv5)\n",
    "    _pool2 = tf.nn.max_pool(_conv6, ksize=[1,2,2,1], strides=[1,1,1,1], padding='SAME')\n",
    "    #Vectorize\n",
    "    _dense = tf.reshape(_pool2, [-1, _w['wd1'].get_shape().as_list()[0]])\n",
    "    #Fully_connected layer\n",
    "    _out = tf.add(tf.matmul(_dense, _w['wd1'], _b['bd1']))\n",
    "    out = {\n",
    "        'input_r': _input_r, 'conv1': _conv1, 'conv2': _conv2, 'conv3': _conv3\n",
    "        , 'pool1': _pool1, 'conv4': _conv4, 'conv5': _conv5, 'conv6': _conv6\n",
    "        , 'pool2': _pool2, 'dense': _dense, 'out': _out\n",
    "    }\n",
    "    return out"
   ]
  },
  {
   "cell_type": "code",
   "execution_count": null,
   "metadata": {
    "collapsed": true
   },
   "outputs": [],
   "source": [
    "#input, output\n",
    "x = tf.placeholder(tf.float32, [None, n_input])\n",
    "y = tf.placeholder(tf.float32, [None, n_output])\n",
    "#params\n",
    "lerning_rate = 0.001\n",
    "training_epochs = 3\n",
    "batch_size = 100\n",
    "display_step = 1\n",
    "#function\n",
    "_pred = conv_simple(x, weights, biases)['out']\n",
    "cost = tf.reduce_mean(tf.nn.softmax_cross_entropy_with_logits(_pread, y))\n",
    "optm = tf.train.AdagradOptimizer(learning_rate=lerning_rate).minimize(cost)\n",
    "_corr = tf.equal(tf.argmax(_pread, 1), tf.argmax(y, 1))\n"
   ]
  }
 ],
 "metadata": {
  "kernelspec": {
   "display_name": "Python 3",
   "language": "python",
   "name": "python3"
  },
  "language_info": {
   "codemirror_mode": {
    "name": "ipython",
    "version": 3
   },
   "file_extension": ".py",
   "mimetype": "text/x-python",
   "name": "python",
   "nbconvert_exporter": "python",
   "pygments_lexer": "ipython3",
   "version": "3.5.3"
  }
 },
 "nbformat": 4,
 "nbformat_minor": 2
}
